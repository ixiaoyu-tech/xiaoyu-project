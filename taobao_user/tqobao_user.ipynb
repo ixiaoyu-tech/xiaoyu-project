{
 "cells": [
  {
   "cell_type": "code",
   "execution_count": 78,
   "metadata": {},
   "outputs": [],
   "source": [
    "# 导入相关的库\n",
    "\n",
    "import pandas as pd \n",
    "import numpy as np\n",
    "import matplotlib.pyplot as plt\n",
    "import squarify\n",
    "import warnings\n",
    "import gc\n",
    "from datetime import datetime,timedelta\n",
    "%matplotlib inline\n",
    "warnings.filterwarnings('ignore')\n"
   ]
  },
  {
   "cell_type": "code",
   "execution_count": 79,
   "metadata": {},
   "outputs": [
    {
     "data": {
      "text/html": [
       "<div>\n",
       "<style scoped>\n",
       "    .dataframe tbody tr th:only-of-type {\n",
       "        vertical-align: middle;\n",
       "    }\n",
       "\n",
       "    .dataframe tbody tr th {\n",
       "        vertical-align: top;\n",
       "    }\n",
       "\n",
       "    .dataframe thead th {\n",
       "        text-align: right;\n",
       "    }\n",
       "</style>\n",
       "<table border=\"1\" class=\"dataframe\">\n",
       "  <thead>\n",
       "    <tr style=\"text-align: right;\">\n",
       "      <th></th>\n",
       "      <th>1</th>\n",
       "      <th>2268318</th>\n",
       "      <th>2520377</th>\n",
       "      <th>pv</th>\n",
       "      <th>1511544070</th>\n",
       "    </tr>\n",
       "  </thead>\n",
       "  <tbody>\n",
       "    <tr>\n",
       "      <th>0</th>\n",
       "      <td>1</td>\n",
       "      <td>2333346</td>\n",
       "      <td>2520771</td>\n",
       "      <td>pv</td>\n",
       "      <td>1511561733</td>\n",
       "    </tr>\n",
       "    <tr>\n",
       "      <th>1</th>\n",
       "      <td>1</td>\n",
       "      <td>2576651</td>\n",
       "      <td>149192</td>\n",
       "      <td>pv</td>\n",
       "      <td>1511572885</td>\n",
       "    </tr>\n",
       "    <tr>\n",
       "      <th>2</th>\n",
       "      <td>1</td>\n",
       "      <td>3830808</td>\n",
       "      <td>4181361</td>\n",
       "      <td>pv</td>\n",
       "      <td>1511593493</td>\n",
       "    </tr>\n",
       "    <tr>\n",
       "      <th>3</th>\n",
       "      <td>1</td>\n",
       "      <td>4365585</td>\n",
       "      <td>2520377</td>\n",
       "      <td>pv</td>\n",
       "      <td>1511596146</td>\n",
       "    </tr>\n",
       "    <tr>\n",
       "      <th>4</th>\n",
       "      <td>1</td>\n",
       "      <td>4606018</td>\n",
       "      <td>2735466</td>\n",
       "      <td>pv</td>\n",
       "      <td>1511616481</td>\n",
       "    </tr>\n",
       "  </tbody>\n",
       "</table>\n",
       "</div>"
      ],
      "text/plain": [
       "   1  2268318  2520377  pv  1511544070\n",
       "0  1  2333346  2520771  pv  1511561733\n",
       "1  1  2576651   149192  pv  1511572885\n",
       "2  1  3830808  4181361  pv  1511593493\n",
       "3  1  4365585  2520377  pv  1511596146\n",
       "4  1  4606018  2735466  pv  1511616481"
      ]
     },
     "execution_count": 79,
     "metadata": {},
     "output_type": "execute_result"
    }
   ],
   "source": [
    "# 对数据进行不放回抽样，抽去前500万行的数据\n",
    "data = pd.read_csv('/Users/fq/Desktop/UserBehavior.csv',nrows= 5000000)\n",
    "\n",
    "data.head(5)"
   ]
  },
  {
   "cell_type": "code",
   "execution_count": 80,
   "metadata": {},
   "outputs": [
    {
     "name": "stdout",
     "output_type": "stream",
     "text": [
      "<class 'pandas.core.frame.DataFrame'>\n",
      "RangeIndex: 5000000 entries, 0 to 4999999\n",
      "Data columns (total 5 columns):\n",
      " #   Column      Dtype \n",
      "---  ------      ----- \n",
      " 0   1           int64 \n",
      " 1   2268318     int64 \n",
      " 2   2520377     int64 \n",
      " 3   pv          object\n",
      " 4   1511544070  int64 \n",
      "dtypes: int64(4), object(1)\n",
      "memory usage: 190.7+ MB\n"
     ]
    }
   ],
   "source": [
    "# 查看数据信息\n",
    "data.info()"
   ]
  },
  {
   "cell_type": "code",
   "execution_count": 81,
   "metadata": {},
   "outputs": [],
   "source": [
    "# 以userdata.csv保存输出：\n",
    "data.to_csv('/Users/fq/Desktop/Userdata.csv')"
   ]
  },
  {
   "cell_type": "code",
   "execution_count": 82,
   "metadata": {},
   "outputs": [
    {
     "data": {
      "text/html": [
       "<div>\n",
       "<style scoped>\n",
       "    .dataframe tbody tr th:only-of-type {\n",
       "        vertical-align: middle;\n",
       "    }\n",
       "\n",
       "    .dataframe tbody tr th {\n",
       "        vertical-align: top;\n",
       "    }\n",
       "\n",
       "    .dataframe thead th {\n",
       "        text-align: right;\n",
       "    }\n",
       "</style>\n",
       "<table border=\"1\" class=\"dataframe\">\n",
       "  <thead>\n",
       "    <tr style=\"text-align: right;\">\n",
       "      <th></th>\n",
       "      <th>Unnamed: 0</th>\n",
       "      <th>1</th>\n",
       "      <th>2268318</th>\n",
       "      <th>2520377</th>\n",
       "      <th>pv</th>\n",
       "      <th>1511544070</th>\n",
       "    </tr>\n",
       "  </thead>\n",
       "  <tbody>\n",
       "    <tr>\n",
       "      <th>0</th>\n",
       "      <td>0</td>\n",
       "      <td>1</td>\n",
       "      <td>2333346</td>\n",
       "      <td>2520771</td>\n",
       "      <td>pv</td>\n",
       "      <td>1511561733</td>\n",
       "    </tr>\n",
       "    <tr>\n",
       "      <th>1</th>\n",
       "      <td>1</td>\n",
       "      <td>1</td>\n",
       "      <td>2576651</td>\n",
       "      <td>149192</td>\n",
       "      <td>pv</td>\n",
       "      <td>1511572885</td>\n",
       "    </tr>\n",
       "    <tr>\n",
       "      <th>2</th>\n",
       "      <td>2</td>\n",
       "      <td>1</td>\n",
       "      <td>3830808</td>\n",
       "      <td>4181361</td>\n",
       "      <td>pv</td>\n",
       "      <td>1511593493</td>\n",
       "    </tr>\n",
       "    <tr>\n",
       "      <th>3</th>\n",
       "      <td>3</td>\n",
       "      <td>1</td>\n",
       "      <td>4365585</td>\n",
       "      <td>2520377</td>\n",
       "      <td>pv</td>\n",
       "      <td>1511596146</td>\n",
       "    </tr>\n",
       "    <tr>\n",
       "      <th>4</th>\n",
       "      <td>4</td>\n",
       "      <td>1</td>\n",
       "      <td>4606018</td>\n",
       "      <td>2735466</td>\n",
       "      <td>pv</td>\n",
       "      <td>1511616481</td>\n",
       "    </tr>\n",
       "  </tbody>\n",
       "</table>\n",
       "</div>"
      ],
      "text/plain": [
       "   Unnamed: 0  1  2268318  2520377  pv  1511544070\n",
       "0           0  1  2333346  2520771  pv  1511561733\n",
       "1           1  1  2576651   149192  pv  1511572885\n",
       "2           2  1  3830808  4181361  pv  1511593493\n",
       "3           3  1  4365585  2520377  pv  1511596146\n",
       "4           4  1  4606018  2735466  pv  1511616481"
      ]
     },
     "execution_count": 82,
     "metadata": {},
     "output_type": "execute_result"
    }
   ],
   "source": [
    "# 数据集缺少标题列，使用pandas做简单的数据修改\n",
    "file_path = '/Users/fq/Desktop/Userdata.csv'\n",
    "df = pd.read_csv(file_path)             #保存为DataFrame格式，存入变量df\n",
    "df.head()"
   ]
  },
  {
   "cell_type": "code",
   "execution_count": 83,
   "metadata": {},
   "outputs": [
    {
     "name": "stdout",
     "output_type": "stream",
     "text": [
      "<class 'pandas.core.frame.DataFrame'>\n",
      "RangeIndex: 5000000 entries, 0 to 4999999\n",
      "Data columns (total 5 columns):\n",
      " #   Column          Dtype \n",
      "---  ------          ----- \n",
      " 0   user_id         int64 \n",
      " 1   item_id         int64 \n",
      " 2   category_id     int64 \n",
      " 3   behaviour_type  object\n",
      " 4   timestamp       int64 \n",
      "dtypes: int64(4), object(1)\n",
      "memory usage: 190.7+ MB\n"
     ]
    },
    {
     "data": {
      "text/html": [
       "<div>\n",
       "<style scoped>\n",
       "    .dataframe tbody tr th:only-of-type {\n",
       "        vertical-align: middle;\n",
       "    }\n",
       "\n",
       "    .dataframe tbody tr th {\n",
       "        vertical-align: top;\n",
       "    }\n",
       "\n",
       "    .dataframe thead th {\n",
       "        text-align: right;\n",
       "    }\n",
       "</style>\n",
       "<table border=\"1\" class=\"dataframe\">\n",
       "  <thead>\n",
       "    <tr style=\"text-align: right;\">\n",
       "      <th></th>\n",
       "      <th>user_id</th>\n",
       "      <th>item_id</th>\n",
       "      <th>category_id</th>\n",
       "      <th>behaviour_type</th>\n",
       "      <th>timestamp</th>\n",
       "    </tr>\n",
       "  </thead>\n",
       "  <tbody>\n",
       "    <tr>\n",
       "      <th>0</th>\n",
       "      <td>1</td>\n",
       "      <td>2333346</td>\n",
       "      <td>2520771</td>\n",
       "      <td>pv</td>\n",
       "      <td>1511561733</td>\n",
       "    </tr>\n",
       "    <tr>\n",
       "      <th>1</th>\n",
       "      <td>1</td>\n",
       "      <td>2576651</td>\n",
       "      <td>149192</td>\n",
       "      <td>pv</td>\n",
       "      <td>1511572885</td>\n",
       "    </tr>\n",
       "    <tr>\n",
       "      <th>2</th>\n",
       "      <td>1</td>\n",
       "      <td>3830808</td>\n",
       "      <td>4181361</td>\n",
       "      <td>pv</td>\n",
       "      <td>1511593493</td>\n",
       "    </tr>\n",
       "    <tr>\n",
       "      <th>3</th>\n",
       "      <td>1</td>\n",
       "      <td>4365585</td>\n",
       "      <td>2520377</td>\n",
       "      <td>pv</td>\n",
       "      <td>1511596146</td>\n",
       "    </tr>\n",
       "    <tr>\n",
       "      <th>4</th>\n",
       "      <td>1</td>\n",
       "      <td>4606018</td>\n",
       "      <td>2735466</td>\n",
       "      <td>pv</td>\n",
       "      <td>1511616481</td>\n",
       "    </tr>\n",
       "  </tbody>\n",
       "</table>\n",
       "</div>"
      ],
      "text/plain": [
       "   user_id  item_id  category_id behaviour_type   timestamp\n",
       "0        1  2333346      2520771             pv  1511561733\n",
       "1        1  2576651       149192             pv  1511572885\n",
       "2        1  3830808      4181361             pv  1511593493\n",
       "3        1  4365585      2520377             pv  1511596146\n",
       "4        1  4606018      2735466             pv  1511616481"
      ]
     },
     "execution_count": 83,
     "metadata": {},
     "output_type": "execute_result"
    }
   ],
   "source": [
    "# 删除数据集的首列,设置列索引名\n",
    "del df['Unnamed: 0']\n",
    "df.columns = ['user_id', 'item_id', 'category_id', 'behaviour_type', 'timestamp']\n",
    "df.info()     # 数据五个特征，共占用内存190.7M\n",
    "df.head()   "
   ]
  },
  {
   "cell_type": "code",
   "execution_count": 84,
   "metadata": {},
   "outputs": [],
   "source": [
    "# 保存新文件，替换原始数据集\n",
    "df.to_csv('/Users/fq/Desktop/Userdata.csv')"
   ]
  },
  {
   "cell_type": "code",
   "execution_count": 85,
   "metadata": {},
   "outputs": [
    {
     "name": "stdout",
     "output_type": "stream",
     "text": [
      "重复数据有： 5\n",
      "删除后，重复数据有： 0\n"
     ]
    }
   ],
   "source": [
    "# 数据清洗 \n",
    "# 计算重复值，并删除：\n",
    "print('重复数据有：',df.duplicated().sum())   # 重复数据有5个\n",
    "df = df.drop_duplicates()\n",
    "print('删除后，重复数据有：',df.duplicated().sum())  #删除重复值"
   ]
  },
  {
   "cell_type": "code",
   "execution_count": 86,
   "metadata": {},
   "outputs": [
    {
     "data": {
      "text/plain": [
       "user_id           0\n",
       "item_id           0\n",
       "category_id       0\n",
       "behaviour_type    0\n",
       "timestamp         0\n",
       "dtype: int64"
      ]
     },
     "execution_count": 86,
     "metadata": {},
     "output_type": "execute_result"
    }
   ],
   "source": [
    "# 查看各字段的缺失值数量：\n",
    "df.isnull().sum()   # 无缺失字段"
   ]
  },
  {
   "cell_type": "code",
   "execution_count": 87,
   "metadata": {},
   "outputs": [
    {
     "data": {
      "text/html": [
       "<div>\n",
       "<style scoped>\n",
       "    .dataframe tbody tr th:only-of-type {\n",
       "        vertical-align: middle;\n",
       "    }\n",
       "\n",
       "    .dataframe tbody tr th {\n",
       "        vertical-align: top;\n",
       "    }\n",
       "\n",
       "    .dataframe thead th {\n",
       "        text-align: right;\n",
       "    }\n",
       "</style>\n",
       "<table border=\"1\" class=\"dataframe\">\n",
       "  <thead>\n",
       "    <tr style=\"text-align: right;\">\n",
       "      <th></th>\n",
       "      <th>user_id</th>\n",
       "      <th>item_id</th>\n",
       "      <th>category_id</th>\n",
       "      <th>behaviour_type</th>\n",
       "      <th>timestamp</th>\n",
       "      <th>date</th>\n",
       "      <th>time</th>\n",
       "    </tr>\n",
       "  </thead>\n",
       "  <tbody>\n",
       "    <tr>\n",
       "      <th>0</th>\n",
       "      <td>1</td>\n",
       "      <td>2333346</td>\n",
       "      <td>2520771</td>\n",
       "      <td>pv</td>\n",
       "      <td>2017-11-25 06:15:33</td>\n",
       "      <td>2017-11-25</td>\n",
       "      <td>6</td>\n",
       "    </tr>\n",
       "    <tr>\n",
       "      <th>1</th>\n",
       "      <td>1</td>\n",
       "      <td>2576651</td>\n",
       "      <td>149192</td>\n",
       "      <td>pv</td>\n",
       "      <td>2017-11-25 09:21:25</td>\n",
       "      <td>2017-11-25</td>\n",
       "      <td>9</td>\n",
       "    </tr>\n",
       "    <tr>\n",
       "      <th>2</th>\n",
       "      <td>1</td>\n",
       "      <td>3830808</td>\n",
       "      <td>4181361</td>\n",
       "      <td>pv</td>\n",
       "      <td>2017-11-25 15:04:53</td>\n",
       "      <td>2017-11-25</td>\n",
       "      <td>15</td>\n",
       "    </tr>\n",
       "    <tr>\n",
       "      <th>3</th>\n",
       "      <td>1</td>\n",
       "      <td>4365585</td>\n",
       "      <td>2520377</td>\n",
       "      <td>pv</td>\n",
       "      <td>2017-11-25 15:49:06</td>\n",
       "      <td>2017-11-25</td>\n",
       "      <td>15</td>\n",
       "    </tr>\n",
       "    <tr>\n",
       "      <th>4</th>\n",
       "      <td>1</td>\n",
       "      <td>4606018</td>\n",
       "      <td>2735466</td>\n",
       "      <td>pv</td>\n",
       "      <td>2017-11-25 21:28:01</td>\n",
       "      <td>2017-11-25</td>\n",
       "      <td>21</td>\n",
       "    </tr>\n",
       "  </tbody>\n",
       "</table>\n",
       "</div>"
      ],
      "text/plain": [
       "   user_id  item_id  category_id behaviour_type           timestamp  \\\n",
       "0        1  2333346      2520771             pv 2017-11-25 06:15:33   \n",
       "1        1  2576651       149192             pv 2017-11-25 09:21:25   \n",
       "2        1  3830808      4181361             pv 2017-11-25 15:04:53   \n",
       "3        1  4365585      2520377             pv 2017-11-25 15:49:06   \n",
       "4        1  4606018      2735466             pv 2017-11-25 21:28:01   \n",
       "\n",
       "         date  time  \n",
       "0  2017-11-25     6  \n",
       "1  2017-11-25     9  \n",
       "2  2017-11-25    15  \n",
       "3  2017-11-25    15  \n",
       "4  2017-11-25    21  "
      ]
     },
     "execution_count": 87,
     "metadata": {},
     "output_type": "execute_result"
    }
   ],
   "source": [
    "# 日期与时间段的处理\n",
    "\n",
    "#原始数据的时间格式是英国时区，换成中国东八区需要+8小时\n",
    "df['timestamp'] = pd.to_datetime(df['timestamp'],unit='s')+timedelta(hours = 8)\n",
    "df['date'] = df['timestamp'].dt.date\n",
    "df['time'] = df['timestamp'].dt.hour\n",
    "df.head()"
   ]
  },
  {
   "cell_type": "code",
   "execution_count": 88,
   "metadata": {},
   "outputs": [
    {
     "data": {
      "text/plain": [
       "Int64Index([   4169,    7989,    7990,   10850,   11393,   18407,   18573,\n",
       "              20068,   20069,   20489,\n",
       "            ...\n",
       "            4978177, 4982469, 4982478, 4985445, 4989008, 4991273, 4992338,\n",
       "            4992339, 4992340, 4992341],\n",
       "           dtype='int64', length=2600)"
      ]
     },
     "execution_count": 88,
     "metadata": {},
     "output_type": "execute_result"
    }
   ],
   "source": [
    "# 数据的异常值处理\n",
    "# 找出日期小于2017-11-25日的值，并删除：\n",
    "df[df['timestamp']<datetime(2017,11,25)].index      #小于日期小于2017-11-25日的值为2600行"
   ]
  },
  {
   "cell_type": "code",
   "execution_count": 89,
   "metadata": {},
   "outputs": [
    {
     "name": "stdout",
     "output_type": "stream",
     "text": [
      "<class 'pandas.core.frame.DataFrame'>\n",
      "Int64Index: 4997395 entries, 0 to 4999999\n",
      "Data columns (total 7 columns):\n",
      " #   Column          Dtype         \n",
      "---  ------          -----         \n",
      " 0   user_id         int64         \n",
      " 1   item_id         int64         \n",
      " 2   category_id     int64         \n",
      " 3   behaviour_type  object        \n",
      " 4   timestamp       datetime64[ns]\n",
      " 5   date            object        \n",
      " 6   time            int64         \n",
      "dtypes: datetime64[ns](1), int64(4), object(2)\n",
      "memory usage: 305.0+ MB\n"
     ]
    }
   ],
   "source": [
    "df.drop(df[df['timestamp']<datetime(2017,11,25)].index,inplace=True)\n",
    "df.info()    # 原行数5000000，删除后4997395"
   ]
  },
  {
   "cell_type": "code",
   "execution_count": 90,
   "metadata": {},
   "outputs": [
    {
     "data": {
      "text/plain": [
       "32"
      ]
     },
     "execution_count": 90,
     "metadata": {},
     "output_type": "execute_result"
    }
   ],
   "source": [
    "# 找出日期大于2017-12-04日的值，并删除：\n",
    "df[df['timestamp']>datetime(2017,12,4)].time.count()      #小于日期大于2017-12-04日的值为32行"
   ]
  },
  {
   "cell_type": "code",
   "execution_count": 91,
   "metadata": {},
   "outputs": [
    {
     "name": "stdout",
     "output_type": "stream",
     "text": [
      "<class 'pandas.core.frame.DataFrame'>\n",
      "Int64Index: 4997363 entries, 0 to 4999999\n",
      "Data columns (total 7 columns):\n",
      " #   Column          Dtype         \n",
      "---  ------          -----         \n",
      " 0   user_id         int64         \n",
      " 1   item_id         int64         \n",
      " 2   category_id     int64         \n",
      " 3   behaviour_type  object        \n",
      " 4   timestamp       datetime64[ns]\n",
      " 5   date            object        \n",
      " 6   time            int64         \n",
      "dtypes: datetime64[ns](1), int64(4), object(2)\n",
      "memory usage: 305.0+ MB\n"
     ]
    }
   ],
   "source": [
    "df.drop(df[df['timestamp']>datetime(2017,12,4)].index,inplace=True)\n",
    "df.info()            # 原行数4997395，删除后4997363"
   ]
  },
  {
   "cell_type": "code",
   "execution_count": 92,
   "metadata": {},
   "outputs": [
    {
     "name": "stdout",
     "output_type": "stream",
     "text": [
      "计算各值为： 48984 4472599 91.30734525559366 100126\n"
     ]
    }
   ],
   "source": [
    "# 数据分析 可视化处理：\n",
    "# 1、数据整体情况\n",
    "# 1.1 访问用户总数UV、页面总访问量PV、人均浏览次数、成交量\n",
    "UV = df['user_id'].unique().size\n",
    "PV = df[df['behaviour_type'] == 'pv'].user_id.count()\n",
    "user_per = PV/UV\n",
    "buy_count = df[df['behaviour_type'] == 'buy'].user_id.count()\n",
    "print('计算各值为：',UV,PV,user_per,buy_count)"
   ]
  },
  {
   "cell_type": "code",
   "execution_count": 93,
   "metadata": {},
   "outputs": [
    {
     "data": {
      "text/html": [
       "<div>\n",
       "<style scoped>\n",
       "    .dataframe tbody tr th:only-of-type {\n",
       "        vertical-align: middle;\n",
       "    }\n",
       "\n",
       "    .dataframe tbody tr th {\n",
       "        vertical-align: top;\n",
       "    }\n",
       "\n",
       "    .dataframe thead th {\n",
       "        text-align: right;\n",
       "    }\n",
       "</style>\n",
       "<table border=\"1\" class=\"dataframe\">\n",
       "  <thead>\n",
       "    <tr style=\"text-align: right;\">\n",
       "      <th></th>\n",
       "      <th>日访客数</th>\n",
       "      <th>日浏览数</th>\n",
       "      <th>日人均浏览数</th>\n",
       "      <th>日成交量</th>\n",
       "    </tr>\n",
       "    <tr>\n",
       "      <th>日期</th>\n",
       "      <th></th>\n",
       "      <th></th>\n",
       "      <th></th>\n",
       "      <th></th>\n",
       "    </tr>\n",
       "  </thead>\n",
       "  <tbody>\n",
       "    <tr>\n",
       "      <th>2017-11-25</th>\n",
       "      <td>513948</td>\n",
       "      <td>461170</td>\n",
       "      <td>1.114444</td>\n",
       "      <td>9889</td>\n",
       "    </tr>\n",
       "    <tr>\n",
       "      <th>2017-11-26</th>\n",
       "      <td>531631</td>\n",
       "      <td>476245</td>\n",
       "      <td>1.116297</td>\n",
       "      <td>10091</td>\n",
       "    </tr>\n",
       "    <tr>\n",
       "      <th>2017-11-27</th>\n",
       "      <td>499919</td>\n",
       "      <td>446740</td>\n",
       "      <td>1.119038</td>\n",
       "      <td>11088</td>\n",
       "    </tr>\n",
       "    <tr>\n",
       "      <th>2017-11-28</th>\n",
       "      <td>492497</td>\n",
       "      <td>440340</td>\n",
       "      <td>1.118447</td>\n",
       "      <td>10562</td>\n",
       "    </tr>\n",
       "    <tr>\n",
       "      <th>2017-11-29</th>\n",
       "      <td>510914</td>\n",
       "      <td>456976</td>\n",
       "      <td>1.118032</td>\n",
       "      <td>11145</td>\n",
       "    </tr>\n",
       "    <tr>\n",
       "      <th>2017-11-30</th>\n",
       "      <td>521171</td>\n",
       "      <td>467215</td>\n",
       "      <td>1.115484</td>\n",
       "      <td>11007</td>\n",
       "    </tr>\n",
       "    <tr>\n",
       "      <th>2017-12-01</th>\n",
       "      <td>543502</td>\n",
       "      <td>486101</td>\n",
       "      <td>1.118085</td>\n",
       "      <td>10508</td>\n",
       "    </tr>\n",
       "    <tr>\n",
       "      <th>2017-12-02</th>\n",
       "      <td>695569</td>\n",
       "      <td>622231</td>\n",
       "      <td>1.117863</td>\n",
       "      <td>12883</td>\n",
       "    </tr>\n",
       "    <tr>\n",
       "      <th>2017-12-03</th>\n",
       "      <td>688212</td>\n",
       "      <td>615581</td>\n",
       "      <td>1.117988</td>\n",
       "      <td>12953</td>\n",
       "    </tr>\n",
       "  </tbody>\n",
       "</table>\n",
       "</div>"
      ],
      "text/plain": [
       "              日访客数    日浏览数    日人均浏览数   日成交量\n",
       "日期                                         \n",
       "2017-11-25  513948  461170  1.114444   9889\n",
       "2017-11-26  531631  476245  1.116297  10091\n",
       "2017-11-27  499919  446740  1.119038  11088\n",
       "2017-11-28  492497  440340  1.118447  10562\n",
       "2017-11-29  510914  456976  1.118032  11145\n",
       "2017-11-30  521171  467215  1.115484  11007\n",
       "2017-12-01  543502  486101  1.118085  10508\n",
       "2017-12-02  695569  622231  1.117863  12883\n",
       "2017-12-03  688212  615581  1.117988  12953"
      ]
     },
     "execution_count": 93,
     "metadata": {},
     "output_type": "execute_result"
    }
   ],
   "source": [
    "# 1.2 日均访问用户UV、日均页面访问量PV、人均浏览次数、成交量\n",
    "\n",
    "st_perday = df[['user_id','date']].groupby('date').count()\n",
    "st_perday['pv_perday'] = df[df['behaviour_type'] == 'pv'][['behaviour_type','date']].groupby('date').count()\n",
    "st_perday['deep_perday'] = st_perday['user_id']/st_perday['pv_perday']\n",
    "st_perday['buy_perday'] = df[df['behaviour_type'] == 'buy'][['behaviour_type','date']].groupby('date').count()\n",
    "st_perday.columns = ['日访客数','日浏览数','日人均浏览数','日成交量']\n",
    "st_perday.index.name = '日期'\n",
    "st_perday"
   ]
  },
  {
   "cell_type": "code",
   "execution_count": 97,
   "metadata": {},
   "outputs": [
    {
     "data": {
      "image/png": "[encoded data removed]",
      "text/plain": [
       "<Figure size 864x216 with 2 Axes>"
      ]
     },
     "metadata": {
      "needs_background": "light"
     },
     "output_type": "display_data"
    }
   ],
   "source": [
    "# 解决中文显示问题\n",
    "plt.rcParams['font.family'] = ['sans-serif']\n",
    "plt.rcParams['font.sans-serif'] = ['Arial Unicode MS']\n",
    "plt.figure(figsize=(12,3))\n",
    "plt.plot(st_perday[['日访客数','日浏览数']])\n",
    "plt.legend(labels = ['日访客数','日浏览数'],loc = 2)\n",
    "plt.twinx()\n",
    "plt.plot(st_perday[['日成交量']],color = 'red')\n",
    "plt.legend(['日成交量'],loc =4)\n",
    "plt.title('日访客数、日浏览数以及日成交量趋势图')\n",
    "plt.savefig('1.png',dpi = 600)\n",
    "plt.show()"
   ]
  },
  {
   "cell_type": "markdown",
   "metadata": {},
   "source": [
    "12月2,3号是周六日，其数值同比上周增长幅度较大，应该是双12活动开始预热。"
   ]
  },
  {
   "cell_type": "code",
   "execution_count": 98,
   "metadata": {},
   "outputs": [
    {
     "name": "stdout",
     "output_type": "stream",
     "text": [
      "复购次数：21892\n",
      "实际购买次数：100126\n",
      "复购率：21.86%\n",
      "跳失率为：0.06941%\n"
     ]
    }
   ],
   "source": [
    "# 1.3 用户的复购率和跳失率\n",
    "\n",
    "buy_count = df[df['behaviour_type'] == 'buy'].user_id.count()\n",
    "a = df[df['behaviour_type'] == 'buy']['user_id'].value_counts()>=2\n",
    "re_buy = a[a].size\n",
    "# 计算复购率：\n",
    "re_buy_rate = (re_buy / buy_count) *100\n",
    "print('复购次数：%i\\n实际购买次数：%i\\n复购率：%.2f%%'%(re_buy,buy_count,re_buy_rate))\n",
    "# 计算跳失率：\n",
    "a = df[df['behaviour_type']=='pv']['user_id'].value_counts()==1\n",
    "a = a[a].size/UV*100\n",
    "print('跳失率为：%0.5f%%'%a)"
   ]
  },
  {
   "cell_type": "markdown",
   "metadata": {},
   "source": [
    "数量级为10万的情况下，复购率为65.87%，但是在数量级为5百万的情况下复购为仅为21.92%。\n",
    "\n",
    "数量级是非常重要的，在可能的情况还是有分析尽可能多的数据。\n",
    "\n",
    "复购率反映的是用户的粘性，忠诚度，不同的复购率会采取不用运营策略。\n",
    "\n",
    "复购率如果小于15%，运营策略应该重点放在新客获取上，\n",
    "\n",
    "复购率超过60%则应该放在忠诚客户维系上。\n",
    "\n",
    "处在中间则应采用混合模式。\n",
    "\n",
    "针对于本数据的21%的复购率，我们应该考虑在获取新用户的同时，提高旧用户的用户黏度。\n",
    "\n",
    "该数量的用户跳失率相对较低。"
   ]
  },
  {
   "cell_type": "code",
   "execution_count": 99,
   "metadata": {},
   "outputs": [
    {
     "name": "stdout",
     "output_type": "stream",
     "text": [
      "回收内存数量：\n"
     ]
    },
    {
     "data": {
      "text/plain": [
       "61048"
      ]
     },
     "execution_count": 99,
     "metadata": {},
     "output_type": "execute_result"
    }
   ],
   "source": [
    "print('回收内存数量：')\n",
    "del PV\n",
    "del UV\n",
    "del a\n",
    "del buy_count\n",
    "del re_buy\n",
    "del re_buy_rate\n",
    "del st_perday\n",
    "del user_per\n",
    "gc.collect()    #  强制对所有代进行垃圾回"
   ]
  },
  {
   "cell_type": "code",
   "execution_count": 100,
   "metadata": {},
   "outputs": [
    {
     "data": {
      "text/html": [
       "<div>\n",
       "<style scoped>\n",
       "    .dataframe tbody tr th:only-of-type {\n",
       "        vertical-align: middle;\n",
       "    }\n",
       "\n",
       "    .dataframe tbody tr th {\n",
       "        vertical-align: top;\n",
       "    }\n",
       "\n",
       "    .dataframe thead th {\n",
       "        text-align: right;\n",
       "    }\n",
       "</style>\n",
       "<table border=\"1\" class=\"dataframe\">\n",
       "  <thead>\n",
       "    <tr style=\"text-align: right;\">\n",
       "      <th></th>\n",
       "      <th>user_id</th>\n",
       "    </tr>\n",
       "    <tr>\n",
       "      <th>行为分布值</th>\n",
       "      <th></th>\n",
       "    </tr>\n",
       "  </thead>\n",
       "  <tbody>\n",
       "    <tr>\n",
       "      <th>buy</th>\n",
       "      <td>100126</td>\n",
       "    </tr>\n",
       "    <tr>\n",
       "      <th>fav</th>\n",
       "      <td>145125</td>\n",
       "    </tr>\n",
       "    <tr>\n",
       "      <th>cart</th>\n",
       "      <td>279513</td>\n",
       "    </tr>\n",
       "    <tr>\n",
       "      <th>pv</th>\n",
       "      <td>4472599</td>\n",
       "    </tr>\n",
       "  </tbody>\n",
       "</table>\n",
       "</div>"
      ],
      "text/plain": [
       "       user_id\n",
       "行为分布值         \n",
       "buy     100126\n",
       "fav     145125\n",
       "cart    279513\n",
       "pv     4472599"
      ]
     },
     "execution_count": 100,
     "metadata": {},
     "output_type": "execute_result"
    }
   ],
   "source": [
    "# 2、用户行为转化分析\n",
    "# 2.1 基于行为转化漏斗分析\n",
    "be_value = df[['user_id','behaviour_type']].groupby('behaviour_type').count().sort_values(by = 'user_id')\n",
    "be_value.index.name='行为分布值'\n",
    "be_value"
   ]
  },
  {
   "cell_type": "code",
   "execution_count": 103,
   "metadata": {},
   "outputs": [
    {
     "data": {
      "image/png": "[encoded data removed]",
      "text/plain": [
       "<Figure size 432x288 with 1 Axes>"
      ]
     },
     "metadata": {
      "needs_background": "light"
     },
     "output_type": "display_data"
    }
   ],
   "source": [
    "# 绘制用户行为分布条形图：\n",
    "y = be_value['user_id']\n",
    "x = ['用户购买数','用户加购数','用户收藏数','用户浏览数']\n",
    "plt.barh(x,y)\n",
    "plt.title(\"用户行为分布情况\")\n",
    "plt.savefig('2.png',dpi = 600)\n",
    "plt.show()"
   ]
  },
  {
   "cell_type": "markdown",
   "metadata": {},
   "source": [
    "浏览后的加购的转化率为6.24%\n",
    "\n",
    "浏览后的收藏的转化率为3.24%\n",
    "\n",
    "浏览后的购买的转化率为2.23%\n",
    "\n",
    "可以看出用户在浏览后的行为转化率都较低，那么用户转化是否也是如此？"
   ]
  },
  {
   "cell_type": "code",
   "execution_count": 104,
   "metadata": {},
   "outputs": [
    {
     "data": {
      "text/plain": [
       "浏览用户数    48782\n",
       "加购用户数    36906\n",
       "收藏用户数    19489\n",
       "购买用户数    33286\n",
       "dtype: int64"
      ]
     },
     "execution_count": 104,
     "metadata": {},
     "output_type": "execute_result"
    }
   ],
   "source": [
    "# 2.2 基于用户转化漏斗分析:\n",
    "pv_user = df[df['behaviour_type'] == 'pv']['user_id'].unique().size\n",
    "cart_user = df[df['behaviour_type'] == 'cart']['user_id'].unique().size\n",
    "fav_user = df[df['behaviour_type'] == 'fav']['user_id'].unique().size\n",
    "buy_user = df[df['behaviour_type'] == 'buy']['user_id'].unique().size\n",
    "be_user = {'浏览用户数':pv_user,'加购用户数':cart_user,'收藏用户数':fav_user,'购买用户数':buy_user}\n",
    "be_user = pd.Series(be_user)\n",
    "be_user"
   ]
  },
  {
   "cell_type": "code",
   "execution_count": 105,
   "metadata": {},
   "outputs": [
    {
     "data": {
      "image/png": "[encoded data removed]",
      "text/plain": [
       "<Figure size 432x288 with 1 Axes>"
      ]
     },
     "metadata": {
      "needs_background": "light"
     },
     "output_type": "display_data"
    }
   ],
   "source": [
    "# 绘制用户分布条形图：\n",
    "be_user.plot(kind='barh')\n",
    "plt.title(\"用户分布情况\")\n",
    "plt.savefig('2.png',dpi = 600)\n",
    "plt.show()"
   ]
  },
  {
   "cell_type": "markdown",
   "metadata": {},
   "source": [
    "用户浏览后加购的转化率为75.49%\n",
    "\n",
    "用户浏览后收藏的转化率为39.77%\n",
    "\n",
    "用户浏览后购买的转化率为68.03%\n",
    "\n",
    "由上图可以看出，用户并未在点击后就大量流失,而且有高达68.03%的付费转化率。结合业务场景分析，行为转化率较低的原因是用户要对同种产品进行比较，以及单纯的浏览商品。还有为什么收藏用户数远小于加购的用户数？结合业务场景，推测可能因为收藏后不可以直接购买，但是加购后可以直接购买。可以引导用户将单纯的收藏行为，转化为收藏并加购，来提升用户购买转化率。"
   ]
  },
  {
   "cell_type": "code",
   "execution_count": 106,
   "metadata": {},
   "outputs": [
    {
     "name": "stdout",
     "output_type": "stream",
     "text": [
      "整体用户行为按小时分布表\n"
     ]
    },
    {
     "data": {
      "text/html": [
       "<div>\n",
       "<style scoped>\n",
       "    .dataframe tbody tr th:only-of-type {\n",
       "        vertical-align: middle;\n",
       "    }\n",
       "\n",
       "    .dataframe tbody tr th {\n",
       "        vertical-align: top;\n",
       "    }\n",
       "\n",
       "    .dataframe thead th {\n",
       "        text-align: right;\n",
       "    }\n",
       "</style>\n",
       "<table border=\"1\" class=\"dataframe\">\n",
       "  <thead>\n",
       "    <tr style=\"text-align: right;\">\n",
       "      <th></th>\n",
       "      <th>购买</th>\n",
       "      <th>加购</th>\n",
       "      <th>收藏</th>\n",
       "      <th>浏览</th>\n",
       "    </tr>\n",
       "    <tr>\n",
       "      <th>小时</th>\n",
       "      <th></th>\n",
       "      <th></th>\n",
       "      <th></th>\n",
       "      <th></th>\n",
       "    </tr>\n",
       "  </thead>\n",
       "  <tbody>\n",
       "    <tr>\n",
       "      <th>0</th>\n",
       "      <td>2916</td>\n",
       "      <td>9181</td>\n",
       "      <td>5070</td>\n",
       "      <td>149884</td>\n",
       "    </tr>\n",
       "    <tr>\n",
       "      <th>1</th>\n",
       "      <td>1101</td>\n",
       "      <td>4164</td>\n",
       "      <td>2295</td>\n",
       "      <td>68466</td>\n",
       "    </tr>\n",
       "    <tr>\n",
       "      <th>2</th>\n",
       "      <td>603</td>\n",
       "      <td>2150</td>\n",
       "      <td>1403</td>\n",
       "      <td>37536</td>\n",
       "    </tr>\n",
       "    <tr>\n",
       "      <th>3</th>\n",
       "      <td>302</td>\n",
       "      <td>1664</td>\n",
       "      <td>911</td>\n",
       "      <td>26422</td>\n",
       "    </tr>\n",
       "    <tr>\n",
       "      <th>4</th>\n",
       "      <td>328</td>\n",
       "      <td>1410</td>\n",
       "      <td>797</td>\n",
       "      <td>22544</td>\n",
       "    </tr>\n",
       "    <tr>\n",
       "      <th>5</th>\n",
       "      <td>380</td>\n",
       "      <td>1992</td>\n",
       "      <td>919</td>\n",
       "      <td>28039</td>\n",
       "    </tr>\n",
       "    <tr>\n",
       "      <th>6</th>\n",
       "      <td>922</td>\n",
       "      <td>3967</td>\n",
       "      <td>2169</td>\n",
       "      <td>60113</td>\n",
       "    </tr>\n",
       "    <tr>\n",
       "      <th>7</th>\n",
       "      <td>1845</td>\n",
       "      <td>7486</td>\n",
       "      <td>3843</td>\n",
       "      <td>111536</td>\n",
       "    </tr>\n",
       "    <tr>\n",
       "      <th>8</th>\n",
       "      <td>3186</td>\n",
       "      <td>9906</td>\n",
       "      <td>5409</td>\n",
       "      <td>154485</td>\n",
       "    </tr>\n",
       "    <tr>\n",
       "      <th>9</th>\n",
       "      <td>4775</td>\n",
       "      <td>11878</td>\n",
       "      <td>6466</td>\n",
       "      <td>188798</td>\n",
       "    </tr>\n",
       "    <tr>\n",
       "      <th>10</th>\n",
       "      <td>6383</td>\n",
       "      <td>13387</td>\n",
       "      <td>7478</td>\n",
       "      <td>216260</td>\n",
       "    </tr>\n",
       "    <tr>\n",
       "      <th>11</th>\n",
       "      <td>6184</td>\n",
       "      <td>13245</td>\n",
       "      <td>7375</td>\n",
       "      <td>210669</td>\n",
       "    </tr>\n",
       "    <tr>\n",
       "      <th>12</th>\n",
       "      <td>5883</td>\n",
       "      <td>13115</td>\n",
       "      <td>7256</td>\n",
       "      <td>213208</td>\n",
       "    </tr>\n",
       "    <tr>\n",
       "      <th>13</th>\n",
       "      <td>6225</td>\n",
       "      <td>14022</td>\n",
       "      <td>7766</td>\n",
       "      <td>234846</td>\n",
       "    </tr>\n",
       "    <tr>\n",
       "      <th>14</th>\n",
       "      <td>5980</td>\n",
       "      <td>13909</td>\n",
       "      <td>7383</td>\n",
       "      <td>230455</td>\n",
       "    </tr>\n",
       "    <tr>\n",
       "      <th>15</th>\n",
       "      <td>6101</td>\n",
       "      <td>14195</td>\n",
       "      <td>7753</td>\n",
       "      <td>239338</td>\n",
       "    </tr>\n",
       "    <tr>\n",
       "      <th>16</th>\n",
       "      <td>5756</td>\n",
       "      <td>13936</td>\n",
       "      <td>7386</td>\n",
       "      <td>230376</td>\n",
       "    </tr>\n",
       "    <tr>\n",
       "      <th>17</th>\n",
       "      <td>5156</td>\n",
       "      <td>13118</td>\n",
       "      <td>7036</td>\n",
       "      <td>208410</td>\n",
       "    </tr>\n",
       "    <tr>\n",
       "      <th>18</th>\n",
       "      <td>4703</td>\n",
       "      <td>12678</td>\n",
       "      <td>6631</td>\n",
       "      <td>216937</td>\n",
       "    </tr>\n",
       "    <tr>\n",
       "      <th>19</th>\n",
       "      <td>5680</td>\n",
       "      <td>16084</td>\n",
       "      <td>8110</td>\n",
       "      <td>271283</td>\n",
       "    </tr>\n",
       "    <tr>\n",
       "      <th>20</th>\n",
       "      <td>6743</td>\n",
       "      <td>19979</td>\n",
       "      <td>9390</td>\n",
       "      <td>329245</td>\n",
       "    </tr>\n",
       "    <tr>\n",
       "      <th>21</th>\n",
       "      <td>7194</td>\n",
       "      <td>23545</td>\n",
       "      <td>11192</td>\n",
       "      <td>376778</td>\n",
       "    </tr>\n",
       "    <tr>\n",
       "      <th>22</th>\n",
       "      <td>6837</td>\n",
       "      <td>24452</td>\n",
       "      <td>11513</td>\n",
       "      <td>368819</td>\n",
       "    </tr>\n",
       "    <tr>\n",
       "      <th>23</th>\n",
       "      <td>4943</td>\n",
       "      <td>20050</td>\n",
       "      <td>9574</td>\n",
       "      <td>278152</td>\n",
       "    </tr>\n",
       "  </tbody>\n",
       "</table>\n",
       "</div>"
      ],
      "text/plain": [
       "      购买     加购     收藏      浏览\n",
       "小时                            \n",
       "0   2916   9181   5070  149884\n",
       "1   1101   4164   2295   68466\n",
       "2    603   2150   1403   37536\n",
       "3    302   1664    911   26422\n",
       "4    328   1410    797   22544\n",
       "5    380   1992    919   28039\n",
       "6    922   3967   2169   60113\n",
       "7   1845   7486   3843  111536\n",
       "8   3186   9906   5409  154485\n",
       "9   4775  11878   6466  188798\n",
       "10  6383  13387   7478  216260\n",
       "11  6184  13245   7375  210669\n",
       "12  5883  13115   7256  213208\n",
       "13  6225  14022   7766  234846\n",
       "14  5980  13909   7383  230455\n",
       "15  6101  14195   7753  239338\n",
       "16  5756  13936   7386  230376\n",
       "17  5156  13118   7036  208410\n",
       "18  4703  12678   6631  216937\n",
       "19  5680  16084   8110  271283\n",
       "20  6743  19979   9390  329245\n",
       "21  7194  23545  11192  376778\n",
       "22  6837  24452  11513  368819\n",
       "23  4943  20050   9574  278152"
      ]
     },
     "execution_count": 106,
     "metadata": {},
     "output_type": "execute_result"
    }
   ],
   "source": [
    "# 3、 用户行为习惯分析\n",
    "# 3.1 整体用户行为活跃情况：\n",
    "# time_browse = df.groupby(['hour','behaviour_type'])['user_id'].count().unstack()\n",
    "# time_browse.columns = ['购买','加购','收藏','浏览']\n",
    "# time_browse.index.set_names('小时',inplace=True)\n",
    "# print('整体用户行为按小时分布表')\n",
    "# time_browse\n",
    "\n",
    "time_browse = df.groupby(['time','behaviour_type'])['user_id'].count().unstack()\n",
    "time_browse.columns = ['购买','加购','收藏','浏览']\n",
    "time_browse.index.name = '小时'\n",
    "print('整体用户行为按小时分布表')\n",
    "time_browse"
   ]
  },
  {
   "cell_type": "code",
   "execution_count": 107,
   "metadata": {},
   "outputs": [
    {
     "data": {
      "text/plain": [
       "<Figure size 1080x216 with 0 Axes>"
      ]
     },
     "metadata": {},
     "output_type": "display_data"
    },
    {
     "data": {
      "image/png": "[encoded data removed]",
      "text/plain": [
       "<Figure size 1080x216 with 2 Axes>"
      ]
     },
     "metadata": {
      "needs_background": "light"
     },
     "output_type": "display_data"
    }
   ],
   "source": [
    "# 绘制整体用户行为活跃情况折线图：\n",
    "plt.figure(figsize=(15,3))\n",
    "time_browse[['加购','收藏','购买']].plot(style = '-o')\n",
    "plt.legend(loc = 2)\n",
    "plt.title('用户行为习惯按时间分布图')\n",
    "plt.xlabel('小时')\n",
    "plt.twinx()\n",
    "time_browse['浏览'].plot(kind = 'bar',figsize=(15,3),facecolor = 'orange',alpha = 0.5)\n",
    "plt.legend(loc=4)\n",
    "plt.savefig('3.png',dpi = 600)\n",
    "plt.show()"
   ]
  },
  {
   "cell_type": "markdown",
   "metadata": {},
   "source": [
    "由上图可知，每日0点至3点用户活跃度迅速下降，降到最低值，4点到10点用户活跃度开始上升，10点至18点用户活跃度较平稳，18点后用户活跃度开始快速上升，并在20-22时达到一天中用户活跃度的最高值，符合人群的作息规律。根据用户不同活跃情况制定不同的运营策略，在用户活跃高峰期增加广告以及运营手段的投入，达到更高用户转化率。"
   ]
  },
  {
   "cell_type": "code",
   "execution_count": 26,
   "metadata": {},
   "outputs": [
    {
     "name": "stdout",
     "output_type": "stream",
     "text": [
      "本次分析的产品类目数量为：7352 \n",
      "商品数量为：1080286\n"
     ]
    }
   ],
   "source": [
    "# 4 用户类目偏好分析\n",
    "# 4.1 不同商品购买次数分析：\n",
    "print('本次分析的产品类目数量为：%i \\n商品数量为：%i'%(df['category_id'].unique().size,df['item_id'].unique().size))"
   ]
  },
  {
   "cell_type": "code",
   "execution_count": 108,
   "metadata": {},
   "outputs": [
    {
     "data": {
      "image/png": "[encoded data removed]",
      "text/plain": [
       "<Figure size 432x288 with 1 Axes>"
      ]
     },
     "metadata": {
      "needs_background": "light"
     },
     "output_type": "display_data"
    }
   ],
   "source": [
    "# 商品购买次数排名：\n",
    "buy_count = df[df['behaviour_type'] == 'buy'].groupby('item_id')['user_id'].count()\n",
    "buy_count = buy_count.value_counts(sort = True)[:10]\n",
    "buy_count\n",
    "buy_count.plot(kind = 'bar')\n",
    "plt.title('商品购买次数分析')\n",
    "plt.xlabel('购买次数')\n",
    "plt.savefig('4.png',dpi = 600)\n",
    "plt.show()"
   ]
  },
  {
   "cell_type": "markdown",
   "metadata": {},
   "source": [
    "购买商品一次的占所有商品比为5.20%\n",
    "购买商品二次的占所有商品比为0.85%\n",
    "购买商品三次的占所有商品比为0.25%"
   ]
  },
  {
   "cell_type": "code",
   "execution_count": 116,
   "metadata": {},
   "outputs": [
    {
     "data": {
      "image/png": "[encoded data removed]",
      "text/plain": [
       "<Figure size 864x216 with 1 Axes>"
      ]
     },
     "metadata": {
      "needs_background": "light"
     },
     "output_type": "display_data"
    }
   ],
   "source": [
    "# 4.2 不同行为下的排名前20的商品：\n",
    "# 浏览排名前20的商品:\n",
    "# b = df[df['behaviour_type']=='pv'].groupby('item_id')['user_id'].count().sort_values(ascending =False)[:20]\n",
    "# plt.figure(figsize= (12,3))\n",
    "# # squarify.plot(sizes=b.values,label=b.index,value = b.values,alpha = 0.5)\n",
    "# plt.axis('off')\n",
    "# plt.title('浏览排名前20的商品分布情况',fontdict = {'fontsize':15})\n",
    "# plt.tight_layout()\n",
    "\n",
    "be_pv = df[df['behaviour_type'] == 'pv'].groupby('item_id')['user_id'].count().sort_values(ascending = False)[:20]\n",
    "plt.figure(figsize=(12,3))\n",
    "squarify.plot(sizes = be_pv.values,label=be_pv.index,value=be_pv.values,alpha = 0.5,edgecolor = 'white')\n",
    "# 除去坐标轴\n",
    "plt.axis('off')\n",
    "# 除上边框和右边框刻度\n",
    "plt.tick_params(top = 'off', right = 'off')\n",
    "plt.title('浏览排名前20的商品分布情况')\n",
    "plt.savefig('3.png',dpi = 600)\n",
    "plt.show()"
   ]
  },
  {
   "cell_type": "code",
   "execution_count": 117,
   "metadata": {},
   "outputs": [
    {
     "data": {
      "image/png": "[encoded data removed]",
      "text/plain": [
       "<Figure size 864x216 with 1 Axes>"
      ]
     },
     "metadata": {
      "needs_background": "light"
     },
     "output_type": "display_data"
    }
   ],
   "source": [
    "# 加购排名前20的商品:\n",
    "be_cart = df[df['behaviour_type'] == 'cart'].groupby('item_id')['user_id'].count().sort_values(ascending = False)[:20]\n",
    "plt.figure(figsize=(12,3))\n",
    "squarify.plot(sizes = be_cart.values,label=be_cart.index,value=be_cart.values,alpha = 0.5,edgecolor = 'white')\n",
    "# 除去坐标轴\n",
    "plt.axis('off')\n",
    "# 除上边框和右边框刻度\n",
    "plt.tick_params(top = 'off', right = 'off')\n",
    "plt.title('加购排名前20的商品分布情况')\n",
    "plt.savefig('3.png',dpi = 600)\n",
    "plt.show()"
   ]
  },
  {
   "cell_type": "code",
   "execution_count": 118,
   "metadata": {},
   "outputs": [
    {
     "data": {
      "image/png": "[encoded data removed]",
      "text/plain": [
       "<Figure size 864x216 with 1 Axes>"
      ]
     },
     "metadata": {
      "needs_background": "light"
     },
     "output_type": "display_data"
    }
   ],
   "source": [
    "# 收藏排名前20的商品:\n",
    "be_fav = df[df['behaviour_type'] == 'fav'].groupby('item_id')['user_id'].count().sort_values(ascending = False)[:20]\n",
    "plt.figure(figsize=(12,3))\n",
    "squarify.plot(sizes = be_fav.values,label=be_fav.index,value=be_fav.values,alpha = 0.5,edgecolor = 'white')\n",
    "# 除去坐标轴\n",
    "plt.axis('off')\n",
    "# 除上边框和右边框刻度\n",
    "plt.tick_params(top = 'off', right = 'off')\n",
    "plt.title('收藏排名前20的商品分布情况')\n",
    "plt.savefig('4.png',dpi = 600)\n",
    "plt.show()"
   ]
  },
  {
   "cell_type": "code",
   "execution_count": 119,
   "metadata": {},
   "outputs": [
    {
     "data": {
      "image/png": "[encoded data removed]",
      "text/plain": [
       "<Figure size 864x216 with 1 Axes>"
      ]
     },
     "metadata": {
      "needs_background": "light"
     },
     "output_type": "display_data"
    }
   ],
   "source": [
    "# 购买排名前20的商品:\n",
    "be_buy = df[df['behaviour_type'] == 'buy'].groupby('item_id')['user_id'].count().sort_values(ascending = False)[:20]\n",
    "plt.figure(figsize=(12,3))\n",
    "squarify.plot(sizes = be_buy.values,label=be_buy.index,value=be_buy.values,alpha = 0.5,edgecolor = 'white')\n",
    "# 除去坐标轴\n",
    "plt.axis('off')\n",
    "# 除上边框和右边框刻度\n",
    "plt.tick_params(top = 'off', right = 'off')\n",
    "plt.title('购买排名前20的商品分布情况')\n",
    "plt.savefig('5.png',dpi = 600)\n",
    "plt.show()"
   ]
  },
  {
   "cell_type": "code",
   "execution_count": 120,
   "metadata": {},
   "outputs": [
    {
     "name": "stdout",
     "output_type": "stream",
     "text": [
      "浏览排名前20的商品有10件是加购，10件收藏，2件购买 \n",
      "加购排名前20的商品有5件是购买的\n",
      "收藏排名前20的商品有1件是购买的\n"
     ]
    }
   ],
   "source": [
    "print('浏览排名前20的商品有%i件是加购，%i件收藏，%i件购买 \\n加购排名前20的商品有%i件是购买的\\n收藏排名前20的商品有%i件是购买的'\n",
    "%(be_pv[be_pv.index.isin(be_cart.index)].count(),\n",
    "  be_pv[be_pv.index.isin(be_fav.index)].count(),\n",
    "  be_pv[be_pv.index.isin(be_buy.index)].count(),\n",
    "  be_cart[be_cart.index.isin(be_buy.index)].count(),\n",
    "  be_fav[be_fav.index.isin(be_buy.index)].count()\n",
    "))"
   ]
  },
  {
   "cell_type": "markdown",
   "metadata": {},
   "source": [
    "可以看出浏览最多的商品和购买最多的商品差别略大，最吸引用的产品却没有很好的转化成销量，应调整相关商品的运营策略，减少差距。同时，可以看出收藏的行为距离购买的行为较远，更应鼓励用户多进行加购行为。"
   ]
  },
  {
   "cell_type": "markdown",
   "metadata": {},
   "source": [
    "# 5、用户价值分析：\n",
    "用户RFM分层理论： RFM是3个指标的缩写，最近一次消费时间间隔（Recency），消费频率\n",
    "（Frequency），消费金额（Monetary）。而RFM模型就是通过这三项指标，来描述客户的价值状况，从而得到\n",
    "分群的客户。其中\n",
    "R是指用户的最近一次消费时间距现在有多长时间了，这个指标反映用户流失与复购（粘性）。\n",
    "F是指用户在指定观察的周期内消费了几次。这个指标反映了用户的消费活跃度（忠诚度）。\n",
    "M是指用户在指定的观察周期内在平台花了多少钱，这个指标反映用户对公司贡献的价值（营收）。\n"
   ]
  },
  {
   "cell_type": "markdown",
   "metadata": {},
   "source": [
    "由于数据集的统计的时间仅有9天，而且没有消费数据，只能根据消费频率以及消费时间进行分析，规则设置如下：\n"
   ]
  },
  {
   "cell_type": "code",
   "execution_count": 62,
   "metadata": {},
   "outputs": [
    {
     "name": "stdout",
     "output_type": "stream",
     "text": [
      "用户消费频次，购买时间间隔统计表\n"
     ]
    },
    {
     "data": {
      "text/html": [
       "<div>\n",
       "<style scoped>\n",
       "    .dataframe tbody tr th:only-of-type {\n",
       "        vertical-align: middle;\n",
       "    }\n",
       "\n",
       "    .dataframe tbody tr th {\n",
       "        vertical-align: top;\n",
       "    }\n",
       "\n",
       "    .dataframe thead th {\n",
       "        text-align: right;\n",
       "    }\n",
       "</style>\n",
       "<table border=\"1\" class=\"dataframe\">\n",
       "  <thead>\n",
       "    <tr style=\"text-align: right;\">\n",
       "      <th></th>\n",
       "      <th>消费频次</th>\n",
       "      <th>购买时间间隔</th>\n",
       "    </tr>\n",
       "    <tr>\n",
       "      <th>用户ID</th>\n",
       "      <th></th>\n",
       "      <th></th>\n",
       "    </tr>\n",
       "  </thead>\n",
       "  <tbody>\n",
       "    <tr>\n",
       "      <th>27</th>\n",
       "      <td>2</td>\n",
       "      <td>2</td>\n",
       "    </tr>\n",
       "    <tr>\n",
       "      <th>100</th>\n",
       "      <td>8</td>\n",
       "      <td>5</td>\n",
       "    </tr>\n",
       "    <tr>\n",
       "      <th>117</th>\n",
       "      <td>10</td>\n",
       "      <td>5</td>\n",
       "    </tr>\n",
       "    <tr>\n",
       "      <th>119</th>\n",
       "      <td>3</td>\n",
       "      <td>4</td>\n",
       "    </tr>\n",
       "    <tr>\n",
       "      <th>121</th>\n",
       "      <td>1</td>\n",
       "      <td>8</td>\n",
       "    </tr>\n",
       "    <tr>\n",
       "      <th>...</th>\n",
       "      <td>...</td>\n",
       "      <td>...</td>\n",
       "    </tr>\n",
       "    <tr>\n",
       "      <th>1017960</th>\n",
       "      <td>3</td>\n",
       "      <td>0</td>\n",
       "    </tr>\n",
       "    <tr>\n",
       "      <th>1017965</th>\n",
       "      <td>1</td>\n",
       "      <td>6</td>\n",
       "    </tr>\n",
       "    <tr>\n",
       "      <th>1017972</th>\n",
       "      <td>4</td>\n",
       "      <td>4</td>\n",
       "    </tr>\n",
       "    <tr>\n",
       "      <th>1017997</th>\n",
       "      <td>2</td>\n",
       "      <td>2</td>\n",
       "    </tr>\n",
       "    <tr>\n",
       "      <th>1018011</th>\n",
       "      <td>1</td>\n",
       "      <td>7</td>\n",
       "    </tr>\n",
       "  </tbody>\n",
       "</table>\n",
       "<p>33286 rows × 2 columns</p>\n",
       "</div>"
      ],
      "text/plain": [
       "         消费频次  购买时间间隔\n",
       "用户ID                 \n",
       "27          2       2\n",
       "100         8       5\n",
       "117        10       5\n",
       "119         3       4\n",
       "121         1       8\n",
       "...       ...     ...\n",
       "1017960     3       0\n",
       "1017965     1       6\n",
       "1017972     4       4\n",
       "1017997     2       2\n",
       "1018011     1       7\n",
       "\n",
       "[33286 rows x 2 columns]"
      ]
     },
     "execution_count": 62,
     "metadata": {},
     "output_type": "execute_result"
    }
   ],
   "source": [
    "# 用户价值指标计算：\n",
    "# 购买时间间隔：\n",
    "R_day = (datetime(2017,12,4) - df[df['behaviour_type'] == 'buy']['timestamp']).dt.days\n",
    "a = df[df.index.isin(R_day.index)].user_id\n",
    "a=pd.DataFrame(list(zip(a, R_day)))\n",
    "a.drop_duplicates()\n",
    "a = a.groupby(0).min()\n",
    "a['id'] = a.index\n",
    "a = a.sort_values(by = 'id')\n",
    "# 购买频率\n",
    "buy_count = df[df['behaviour_type'] == 'buy'].user_id.value_counts().sort_index()\n",
    "user_value = pd.DataFrame(list(zip(buy_count,a[1])),index=buy_count.index)\n",
    "user_value.columns = ['消费频次','购买时间间隔']\n",
    "user_value.index.set_names('用户ID',inplace = True)\n",
    "print('用户消费频次，购买时间间隔统计表')\n",
    "user_value"
   ]
  },
  {
   "cell_type": "code",
   "execution_count": 63,
   "metadata": {},
   "outputs": [
    {
     "name": "stdout",
     "output_type": "stream",
     "text": [
      "用户价值分层表\n"
     ]
    },
    {
     "data": {
      "text/html": [
       "<div>\n",
       "<style scoped>\n",
       "    .dataframe tbody tr th:only-of-type {\n",
       "        vertical-align: middle;\n",
       "    }\n",
       "\n",
       "    .dataframe tbody tr th {\n",
       "        vertical-align: top;\n",
       "    }\n",
       "\n",
       "    .dataframe thead th {\n",
       "        text-align: right;\n",
       "    }\n",
       "</style>\n",
       "<table border=\"1\" class=\"dataframe\">\n",
       "  <thead>\n",
       "    <tr style=\"text-align: right;\">\n",
       "      <th></th>\n",
       "      <th>消费频次</th>\n",
       "      <th>购买时间间隔</th>\n",
       "      <th>R值</th>\n",
       "      <th>F值</th>\n",
       "    </tr>\n",
       "    <tr>\n",
       "      <th>用户ID</th>\n",
       "      <th></th>\n",
       "      <th></th>\n",
       "      <th></th>\n",
       "      <th></th>\n",
       "    </tr>\n",
       "  </thead>\n",
       "  <tbody>\n",
       "    <tr>\n",
       "      <th>27</th>\n",
       "      <td>2</td>\n",
       "      <td>2</td>\n",
       "      <td>4</td>\n",
       "      <td>1</td>\n",
       "    </tr>\n",
       "    <tr>\n",
       "      <th>100</th>\n",
       "      <td>8</td>\n",
       "      <td>5</td>\n",
       "      <td>2</td>\n",
       "      <td>1</td>\n",
       "    </tr>\n",
       "    <tr>\n",
       "      <th>117</th>\n",
       "      <td>10</td>\n",
       "      <td>5</td>\n",
       "      <td>2</td>\n",
       "      <td>1</td>\n",
       "    </tr>\n",
       "    <tr>\n",
       "      <th>119</th>\n",
       "      <td>3</td>\n",
       "      <td>4</td>\n",
       "      <td>3</td>\n",
       "      <td>1</td>\n",
       "    </tr>\n",
       "    <tr>\n",
       "      <th>121</th>\n",
       "      <td>1</td>\n",
       "      <td>8</td>\n",
       "      <td>1</td>\n",
       "      <td>1</td>\n",
       "    </tr>\n",
       "    <tr>\n",
       "      <th>...</th>\n",
       "      <td>...</td>\n",
       "      <td>...</td>\n",
       "      <td>...</td>\n",
       "      <td>...</td>\n",
       "    </tr>\n",
       "    <tr>\n",
       "      <th>1017960</th>\n",
       "      <td>3</td>\n",
       "      <td>0</td>\n",
       "      <td>4</td>\n",
       "      <td>1</td>\n",
       "    </tr>\n",
       "    <tr>\n",
       "      <th>1017965</th>\n",
       "      <td>1</td>\n",
       "      <td>6</td>\n",
       "      <td>2</td>\n",
       "      <td>1</td>\n",
       "    </tr>\n",
       "    <tr>\n",
       "      <th>1017972</th>\n",
       "      <td>4</td>\n",
       "      <td>4</td>\n",
       "      <td>3</td>\n",
       "      <td>1</td>\n",
       "    </tr>\n",
       "    <tr>\n",
       "      <th>1017997</th>\n",
       "      <td>2</td>\n",
       "      <td>2</td>\n",
       "      <td>4</td>\n",
       "      <td>1</td>\n",
       "    </tr>\n",
       "    <tr>\n",
       "      <th>1018011</th>\n",
       "      <td>1</td>\n",
       "      <td>7</td>\n",
       "      <td>2</td>\n",
       "      <td>1</td>\n",
       "    </tr>\n",
       "  </tbody>\n",
       "</table>\n",
       "<p>33286 rows × 4 columns</p>\n",
       "</div>"
      ],
      "text/plain": [
       "         消费频次  购买时间间隔  R值  F值\n",
       "用户ID                         \n",
       "27          2       2   4   1\n",
       "100         8       5   2   1\n",
       "117        10       5   2   1\n",
       "119         3       4   3   1\n",
       "121         1       8   1   1\n",
       "...       ...     ...  ..  ..\n",
       "1017960     3       0   4   1\n",
       "1017965     1       6   2   1\n",
       "1017972     4       4   3   1\n",
       "1017997     2       2   4   1\n",
       "1018011     1       7   2   1\n",
       "\n",
       "[33286 rows x 4 columns]"
      ]
     },
     "execution_count": 63,
     "metadata": {},
     "output_type": "execute_result"
    }
   ],
   "source": [
    "#计算价值分数\n",
    "user_value['R值'] = pd.cut(user_value['购买时间间隔'],bins= [-1,2,4,7,9],labels = [4,3,2,1])\n",
    "user_value['F值'] = pd.cut(user_value['消费频次'],bins =[0,10,20,30,90],labels=[1,2,3,4])\n",
    "#将分类数据转化为数值类型\n",
    "user_value[['R值','F值']] = user_value[['R值','F值']].apply(pd.to_numeric)\n",
    "print('用户价值分层表')\n",
    "user_value"
   ]
  },
  {
   "cell_type": "code",
   "execution_count": 70,
   "metadata": {},
   "outputs": [
    {
     "data": {
      "text/html": [
       "<div>\n",
       "<style scoped>\n",
       "    .dataframe tbody tr th:only-of-type {\n",
       "        vertical-align: middle;\n",
       "    }\n",
       "\n",
       "    .dataframe tbody tr th {\n",
       "        vertical-align: top;\n",
       "    }\n",
       "\n",
       "    .dataframe thead th {\n",
       "        text-align: right;\n",
       "    }\n",
       "</style>\n",
       "<table border=\"1\" class=\"dataframe\">\n",
       "  <thead>\n",
       "    <tr style=\"text-align: right;\">\n",
       "      <th></th>\n",
       "      <th>消费频次</th>\n",
       "      <th>购买时间间隔</th>\n",
       "      <th>R值</th>\n",
       "      <th>F值</th>\n",
       "      <th>classification</th>\n",
       "    </tr>\n",
       "    <tr>\n",
       "      <th>用户ID</th>\n",
       "      <th></th>\n",
       "      <th></th>\n",
       "      <th></th>\n",
       "      <th></th>\n",
       "      <th></th>\n",
       "    </tr>\n",
       "  </thead>\n",
       "  <tbody>\n",
       "    <tr>\n",
       "      <th>27</th>\n",
       "      <td>2</td>\n",
       "      <td>2</td>\n",
       "      <td>4</td>\n",
       "      <td>1</td>\n",
       "      <td>重要发展客户</td>\n",
       "    </tr>\n",
       "    <tr>\n",
       "      <th>100</th>\n",
       "      <td>8</td>\n",
       "      <td>5</td>\n",
       "      <td>2</td>\n",
       "      <td>1</td>\n",
       "      <td>重要挽留客户</td>\n",
       "    </tr>\n",
       "    <tr>\n",
       "      <th>117</th>\n",
       "      <td>10</td>\n",
       "      <td>5</td>\n",
       "      <td>2</td>\n",
       "      <td>1</td>\n",
       "      <td>重要挽留客户</td>\n",
       "    </tr>\n",
       "    <tr>\n",
       "      <th>119</th>\n",
       "      <td>3</td>\n",
       "      <td>4</td>\n",
       "      <td>3</td>\n",
       "      <td>1</td>\n",
       "      <td>重要发展客户</td>\n",
       "    </tr>\n",
       "    <tr>\n",
       "      <th>121</th>\n",
       "      <td>1</td>\n",
       "      <td>8</td>\n",
       "      <td>1</td>\n",
       "      <td>1</td>\n",
       "      <td>重要挽留客户</td>\n",
       "    </tr>\n",
       "    <tr>\n",
       "      <th>...</th>\n",
       "      <td>...</td>\n",
       "      <td>...</td>\n",
       "      <td>...</td>\n",
       "      <td>...</td>\n",
       "      <td>...</td>\n",
       "    </tr>\n",
       "    <tr>\n",
       "      <th>1017960</th>\n",
       "      <td>3</td>\n",
       "      <td>0</td>\n",
       "      <td>4</td>\n",
       "      <td>1</td>\n",
       "      <td>重要发展客户</td>\n",
       "    </tr>\n",
       "    <tr>\n",
       "      <th>1017965</th>\n",
       "      <td>1</td>\n",
       "      <td>6</td>\n",
       "      <td>2</td>\n",
       "      <td>1</td>\n",
       "      <td>重要挽留客户</td>\n",
       "    </tr>\n",
       "    <tr>\n",
       "      <th>1017972</th>\n",
       "      <td>4</td>\n",
       "      <td>4</td>\n",
       "      <td>3</td>\n",
       "      <td>1</td>\n",
       "      <td>重要发展客户</td>\n",
       "    </tr>\n",
       "    <tr>\n",
       "      <th>1017997</th>\n",
       "      <td>2</td>\n",
       "      <td>2</td>\n",
       "      <td>4</td>\n",
       "      <td>1</td>\n",
       "      <td>重要发展客户</td>\n",
       "    </tr>\n",
       "    <tr>\n",
       "      <th>1018011</th>\n",
       "      <td>1</td>\n",
       "      <td>7</td>\n",
       "      <td>2</td>\n",
       "      <td>1</td>\n",
       "      <td>重要挽留客户</td>\n",
       "    </tr>\n",
       "  </tbody>\n",
       "</table>\n",
       "<p>33286 rows × 5 columns</p>\n",
       "</div>"
      ],
      "text/plain": [
       "         消费频次  购买时间间隔  R值  F值 classification\n",
       "用户ID                                        \n",
       "27          2       2   4   1         重要发展客户\n",
       "100         8       5   2   1         重要挽留客户\n",
       "117        10       5   2   1         重要挽留客户\n",
       "119         3       4   3   1         重要发展客户\n",
       "121         1       8   1   1         重要挽留客户\n",
       "...       ...     ...  ..  ..            ...\n",
       "1017960     3       0   4   1         重要发展客户\n",
       "1017965     1       6   2   1         重要挽留客户\n",
       "1017972     4       4   3   1         重要发展客户\n",
       "1017997     2       2   4   1         重要发展客户\n",
       "1018011     1       7   2   1         重要挽留客户\n",
       "\n",
       "[33286 rows x 5 columns]"
      ]
     },
     "execution_count": 70,
     "metadata": {},
     "output_type": "execute_result"
    }
   ],
   "source": [
    "#客户分层函数\n",
    "def customer_type(frame):\n",
    "    customer_type = []\n",
    "    for i in range(len(frame)):\n",
    "        if frame.iloc[i,2]>=3 and frame.iloc[i,3]>=3:\n",
    "            customer_type.append('重要价值客户')\n",
    "        elif frame.iloc[i,2]>=1 and frame.iloc[i,3]>=3:\n",
    "            customer_type.append('重要保存客户')\n",
    "        elif frame.iloc[i,2]>=3 and frame.iloc[i,3]>=1:\n",
    "            customer_type.append('重要发展客户')\n",
    "        elif frame.iloc[i,2]>=1 and frame.iloc[i,3]>=1:\n",
    "            customer_type.append('重要挽留客户')\n",
    "    frame['classification'] = customer_type\n",
    "customer_type(user_value)\n",
    "user_value"
   ]
  },
  {
   "cell_type": "code",
   "execution_count": 71,
   "metadata": {},
   "outputs": [
    {
     "name": "stdout",
     "output_type": "stream",
     "text": [
      "客户分类统计值：\n"
     ]
    },
    {
     "data": {
      "text/plain": [
       "重要发展客户    25587\n",
       "重要挽留客户     7599\n",
       "重要价值客户       97\n",
       "重要保存客户        3\n",
       "Name: classification, dtype: int64"
      ]
     },
     "execution_count": 71,
     "metadata": {},
     "output_type": "execute_result"
    }
   ],
   "source": [
    "print('客户分类统计值：')\n",
    "user_value.classification.value_counts()"
   ]
  },
  {
   "cell_type": "code",
   "execution_count": 74,
   "metadata": {},
   "outputs": [
    {
     "name": "stdout",
     "output_type": "stream",
     "text": [
      "回收内存：\n"
     ]
    },
    {
     "ename": "NameError",
     "evalue": "name 'be_user' is not defined",
     "output_type": "error",
     "traceback": [
      "\u001b[0;31m---------------------------------------------------------------------------\u001b[0m",
      "\u001b[0;31mNameError\u001b[0m                                 Traceback (most recent call last)",
      "\u001b[0;32m<ipython-input-74-332bc33e2f57>\u001b[0m in \u001b[0;36m<module>\u001b[0;34m\u001b[0m\n\u001b[1;32m      3\u001b[0m \u001b[0;32mdel\u001b[0m \u001b[0mbe_buy\u001b[0m\u001b[0;34m\u001b[0m\u001b[0;34m\u001b[0m\u001b[0m\n\u001b[1;32m      4\u001b[0m \u001b[0;32mdel\u001b[0m \u001b[0mbe_cart\u001b[0m\u001b[0;34m\u001b[0m\u001b[0;34m\u001b[0m\u001b[0m\n\u001b[0;32m----> 5\u001b[0;31m \u001b[0;32mdel\u001b[0m \u001b[0mbe_user\u001b[0m\u001b[0;34m\u001b[0m\u001b[0;34m\u001b[0m\u001b[0m\n\u001b[0m\u001b[1;32m      6\u001b[0m \u001b[0;32mdel\u001b[0m \u001b[0mbe_value\u001b[0m\u001b[0;34m\u001b[0m\u001b[0;34m\u001b[0m\u001b[0m\n\u001b[1;32m      7\u001b[0m \u001b[0;32mdel\u001b[0m \u001b[0mbuy_count\u001b[0m\u001b[0;34m\u001b[0m\u001b[0;34m\u001b[0m\u001b[0m\n",
      "\u001b[0;31mNameError\u001b[0m: name 'be_user' is not defined"
     ]
    }
   ],
   "source": []
  },
  {
   "cell_type": "code",
   "execution_count": null,
   "metadata": {},
   "outputs": [],
   "source": []
  }
 ],
 "metadata": {
  "kernelspec": {
   "display_name": "Python 3",
   "language": "python",
   "name": "python3"
  },
  "language_info": {
   "codemirror_mode": {
    "name": "ipython",
    "version": 3
   },
   "file_extension": ".py",
   "mimetype": "text/x-python",
   "name": "python",
   "nbconvert_exporter": "python",
   "pygments_lexer": "ipython3",
   "version": "3.7.6"
  }
 },
 "nbformat": 4,
 "nbformat_minor": 4
}
